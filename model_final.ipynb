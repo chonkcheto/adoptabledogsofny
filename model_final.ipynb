{
 "cells": [
  {
   "cell_type": "markdown",
   "id": "2c4a549f",
   "metadata": {},
   "source": [
    "### Behind the scenes: building the model \n",
    "\n",
    "Data of 26,423 dogs available for adoption within 100 miles of New York (zipcode 10001) between January and May 2023. Clean dataframe is a result of merging (a) biographies (column: `text`) scraped from individual dog profile pages and (b) data available via Petfinder API. \n",
    "\n",
    "Model takes gender, size, age group, breed(s), traits (`tags`), and text as inputs and predicts how likely a dog will be adopted within one month. "
   ]
  },
  {
   "cell_type": "code",
   "execution_count": 1,
   "id": "fa5f5505",
   "metadata": {},
   "outputs": [],
   "source": [
    "# import libraries and tools \n",
    "\n",
    "import numpy as np \n",
    "import pandas as pd \n",
    "import matplotlib.pyplot as plt \n",
    "import seaborn as sns \n",
    "import dill \n",
    "\n",
    "from preprocess import TagCleaner, DictEncoder\n",
    "from nltk.corpus import stopwords\n",
    "\n",
    "from sklearn.model_selection import train_test_split \n",
    "from sklearn.preprocessing import OneHotEncoder, OrdinalEncoder, StandardScaler \n",
    "from sklearn.base import BaseEstimator, TransformerMixin \n",
    "from sklearn.feature_extraction import DictVectorizer \n",
    "from sklearn.feature_extraction.text import TfidfVectorizer \n",
    "from sklearn.compose import ColumnTransformer \n",
    "from sklearn.ensemble import RandomForestClassifier \n",
    "from sklearn.pipeline import Pipeline \n",
    "from sklearn.metrics import precision_score, recall_score, f1_score, confusion_matrix, ConfusionMatrixDisplay"
   ]
  },
  {
   "cell_type": "code",
   "execution_count": 2,
   "id": "96c7eb5f",
   "metadata": {},
   "outputs": [],
   "source": [
    "# load data \n",
    "with open('data_main_v6.pkd', 'rb') as file:\n",
    "    data = dill.load(file)"
   ]
  },
  {
   "cell_type": "code",
   "execution_count": 3,
   "id": "1cb87301",
   "metadata": {},
   "outputs": [
    {
     "data": {
      "text/html": [
       "<div>\n",
       "<style scoped>\n",
       "    .dataframe tbody tr th:only-of-type {\n",
       "        vertical-align: middle;\n",
       "    }\n",
       "\n",
       "    .dataframe tbody tr th {\n",
       "        vertical-align: top;\n",
       "    }\n",
       "\n",
       "    .dataframe thead th {\n",
       "        text-align: right;\n",
       "    }\n",
       "</style>\n",
       "<table border=\"1\" class=\"dataframe\">\n",
       "  <thead>\n",
       "    <tr style=\"text-align: right;\">\n",
       "      <th></th>\n",
       "      <th>id</th>\n",
       "      <th>gender</th>\n",
       "      <th>tags</th>\n",
       "      <th>age_code</th>\n",
       "      <th>size_code</th>\n",
       "      <th>breed.1</th>\n",
       "      <th>breed.2</th>\n",
       "      <th>breed.mix</th>\n",
       "      <th>text</th>\n",
       "      <th>status_30d</th>\n",
       "    </tr>\n",
       "  </thead>\n",
       "  <tbody>\n",
       "    <tr>\n",
       "      <th>0</th>\n",
       "      <td>59623998</td>\n",
       "      <td>F</td>\n",
       "      <td>[]</td>\n",
       "      <td>0</td>\n",
       "      <td>2</td>\n",
       "      <td>Black Labrador Retriever</td>\n",
       "      <td>Weimaraner</td>\n",
       "      <td>1</td>\n",
       "      <td>Empty</td>\n",
       "      <td>0</td>\n",
       "    </tr>\n",
       "    <tr>\n",
       "      <th>1</th>\n",
       "      <td>59623994</td>\n",
       "      <td>F</td>\n",
       "      <td>[Friendly, Brave, Couch potato, Curious, Loyal...</td>\n",
       "      <td>0</td>\n",
       "      <td>1</td>\n",
       "      <td>Golden Retriever</td>\n",
       "      <td>Great Pyrenees</td>\n",
       "      <td>1</td>\n",
       "      <td>Empty</td>\n",
       "      <td>0</td>\n",
       "    </tr>\n",
       "    <tr>\n",
       "      <th>2</th>\n",
       "      <td>59623941</td>\n",
       "      <td>M</td>\n",
       "      <td>[]</td>\n",
       "      <td>0</td>\n",
       "      <td>2</td>\n",
       "      <td>Black Labrador Retriever</td>\n",
       "      <td>Weimaraner</td>\n",
       "      <td>1</td>\n",
       "      <td>Empty</td>\n",
       "      <td>0</td>\n",
       "    </tr>\n",
       "    <tr>\n",
       "      <th>3</th>\n",
       "      <td>59623710</td>\n",
       "      <td>M</td>\n",
       "      <td>[]</td>\n",
       "      <td>2</td>\n",
       "      <td>2</td>\n",
       "      <td>Mixed Breed</td>\n",
       "      <td>Mixed Breed</td>\n",
       "      <td>1</td>\n",
       "      <td>Empty</td>\n",
       "      <td>0</td>\n",
       "    </tr>\n",
       "    <tr>\n",
       "      <th>4</th>\n",
       "      <td>59623708</td>\n",
       "      <td>F</td>\n",
       "      <td>[]</td>\n",
       "      <td>2</td>\n",
       "      <td>1</td>\n",
       "      <td>Mixed Breed</td>\n",
       "      <td>Mixed Breed</td>\n",
       "      <td>1</td>\n",
       "      <td>Empty</td>\n",
       "      <td>0</td>\n",
       "    </tr>\n",
       "  </tbody>\n",
       "</table>\n",
       "</div>"
      ],
      "text/plain": [
       "         id gender                                               tags  \\\n",
       "0  59623998      F                                                 []   \n",
       "1  59623994      F  [Friendly, Brave, Couch potato, Curious, Loyal...   \n",
       "2  59623941      M                                                 []   \n",
       "3  59623710      M                                                 []   \n",
       "4  59623708      F                                                 []   \n",
       "\n",
       "   age_code  size_code                   breed.1         breed.2  breed.mix  \\\n",
       "0         0          2  Black Labrador Retriever      Weimaraner          1   \n",
       "1         0          1          Golden Retriever  Great Pyrenees          1   \n",
       "2         0          2  Black Labrador Retriever      Weimaraner          1   \n",
       "3         2          2               Mixed Breed     Mixed Breed          1   \n",
       "4         2          1               Mixed Breed     Mixed Breed          1   \n",
       "\n",
       "    text  status_30d  \n",
       "0  Empty           0  \n",
       "1  Empty           0  \n",
       "2  Empty           0  \n",
       "3  Empty           0  \n",
       "4  Empty           0  "
      ]
     },
     "execution_count": 3,
     "metadata": {},
     "output_type": "execute_result"
    }
   ],
   "source": [
    "# preview the data, check dataframe has the expected columns\n",
    "data.head()"
   ]
  },
  {
   "cell_type": "code",
   "execution_count": 4,
   "id": "af2202bf",
   "metadata": {},
   "outputs": [
    {
     "data": {
      "text/plain": [
       "id            0\n",
       "gender        0\n",
       "tags          0\n",
       "age_code      0\n",
       "size_code     0\n",
       "breed.1       0\n",
       "breed.2       0\n",
       "breed.mix     0\n",
       "text          0\n",
       "status_30d    0\n",
       "dtype: int64"
      ]
     },
     "execution_count": 4,
     "metadata": {},
     "output_type": "execute_result"
    }
   ],
   "source": [
    "# gut check for no missing data \n",
    "\n",
    "data.isna().sum()"
   ]
  },
  {
   "cell_type": "code",
   "execution_count": 5,
   "id": "d97201fe",
   "metadata": {},
   "outputs": [
    {
     "data": {
      "text/plain": [
       "(21020, 10)"
      ]
     },
     "execution_count": 5,
     "metadata": {},
     "output_type": "execute_result"
    }
   ],
   "source": [
    "# gut check that we have text data \n",
    "\n",
    "data[data['text'] != 'Empty'].shape"
   ]
  },
  {
   "cell_type": "code",
   "execution_count": 6,
   "id": "ec89eeb9",
   "metadata": {},
   "outputs": [
    {
     "data": {
      "text/plain": [
       "status_30d\n",
       "0    13421\n",
       "1    13002\n",
       "dtype: int64"
      ]
     },
     "execution_count": 6,
     "metadata": {},
     "output_type": "execute_result"
    }
   ],
   "source": [
    "# gut check for balanced data \n",
    "\n",
    "data.groupby('status_30d').size()"
   ]
  },
  {
   "cell_type": "code",
   "execution_count": 7,
   "id": "7d87e811",
   "metadata": {},
   "outputs": [],
   "source": [
    "# separate out X and y \n",
    "\n",
    "y = data['status_30d']\n",
    "X = data.drop(columns=['status_30d'])"
   ]
  },
  {
   "cell_type": "code",
   "execution_count": 8,
   "id": "3d1ef164",
   "metadata": {},
   "outputs": [],
   "source": [
    "# split data into training and test sets \n",
    "\n",
    "X_train, X_test, y_train, y_test = train_test_split(X, y, test_size=0.2, random_state=33)"
   ]
  },
  {
   "cell_type": "code",
   "execution_count": 9,
   "id": "f977d7d5",
   "metadata": {},
   "outputs": [],
   "source": [
    "# assign columns for ColumnTransformer\n",
    "\n",
    "ordinal = ['age_code', 'size_code']\n",
    "categorical = ['gender', 'breed.1', 'breed.2']"
   ]
  },
  {
   "cell_type": "code",
   "execution_count": 10,
   "id": "7166ef55",
   "metadata": {},
   "outputs": [],
   "source": [
    "# set up stopwords for TFIDF \n",
    "\n",
    "stop_words = stopwords.words('english')"
   ]
  },
  {
   "cell_type": "code",
   "execution_count": 11,
   "id": "be0ad187",
   "metadata": {},
   "outputs": [],
   "source": [
    "# set up pipeline \n",
    "# hyperparameters are based on results from previous GridSearchCV \n",
    "\n",
    "steps_tags = Pipeline([\n",
    "    ('clean', TagCleaner()), \n",
    "    ('de', DictEncoder()), \n",
    "    ('dv', DictVectorizer())\n",
    "])\n",
    "\n",
    "features = ColumnTransformer([\n",
    "    ('ordinal', OrdinalEncoder(), ordinal), \n",
    "    ('categorical', OneHotEncoder(handle_unknown='ignore'), categorical), \n",
    "    ('tags_dv', steps_tags, 'tags'), \n",
    "    ('text_tfidf', TfidfVectorizer(stop_words=stop_words, ngram_range=(1,2), \n",
    "                                   min_df=10, max_df=0.8, max_features=5000), 'text')\n",
    "])\n",
    "\n",
    "model = Pipeline([\n",
    "    ('features', features), \n",
    "    ('classifier', RandomForestClassifier(max_depth=500, random_state=33))\n",
    "])"
   ]
  },
  {
   "cell_type": "code",
   "execution_count": 12,
   "id": "74481cf8",
   "metadata": {},
   "outputs": [
    {
     "data": {
      "text/html": [
       "<style>#sk-container-id-1 {color: black;background-color: white;}#sk-container-id-1 pre{padding: 0;}#sk-container-id-1 div.sk-toggleable {background-color: white;}#sk-container-id-1 label.sk-toggleable__label {cursor: pointer;display: block;width: 100%;margin-bottom: 0;padding: 0.3em;box-sizing: border-box;text-align: center;}#sk-container-id-1 label.sk-toggleable__label-arrow:before {content: \"▸\";float: left;margin-right: 0.25em;color: #696969;}#sk-container-id-1 label.sk-toggleable__label-arrow:hover:before {color: black;}#sk-container-id-1 div.sk-estimator:hover label.sk-toggleable__label-arrow:before {color: black;}#sk-container-id-1 div.sk-toggleable__content {max-height: 0;max-width: 0;overflow: hidden;text-align: left;background-color: #f0f8ff;}#sk-container-id-1 div.sk-toggleable__content pre {margin: 0.2em;color: black;border-radius: 0.25em;background-color: #f0f8ff;}#sk-container-id-1 input.sk-toggleable__control:checked~div.sk-toggleable__content {max-height: 200px;max-width: 100%;overflow: auto;}#sk-container-id-1 input.sk-toggleable__control:checked~label.sk-toggleable__label-arrow:before {content: \"▾\";}#sk-container-id-1 div.sk-estimator input.sk-toggleable__control:checked~label.sk-toggleable__label {background-color: #d4ebff;}#sk-container-id-1 div.sk-label input.sk-toggleable__control:checked~label.sk-toggleable__label {background-color: #d4ebff;}#sk-container-id-1 input.sk-hidden--visually {border: 0;clip: rect(1px 1px 1px 1px);clip: rect(1px, 1px, 1px, 1px);height: 1px;margin: -1px;overflow: hidden;padding: 0;position: absolute;width: 1px;}#sk-container-id-1 div.sk-estimator {font-family: monospace;background-color: #f0f8ff;border: 1px dotted black;border-radius: 0.25em;box-sizing: border-box;margin-bottom: 0.5em;}#sk-container-id-1 div.sk-estimator:hover {background-color: #d4ebff;}#sk-container-id-1 div.sk-parallel-item::after {content: \"\";width: 100%;border-bottom: 1px solid gray;flex-grow: 1;}#sk-container-id-1 div.sk-label:hover label.sk-toggleable__label {background-color: #d4ebff;}#sk-container-id-1 div.sk-serial::before {content: \"\";position: absolute;border-left: 1px solid gray;box-sizing: border-box;top: 0;bottom: 0;left: 50%;z-index: 0;}#sk-container-id-1 div.sk-serial {display: flex;flex-direction: column;align-items: center;background-color: white;padding-right: 0.2em;padding-left: 0.2em;position: relative;}#sk-container-id-1 div.sk-item {position: relative;z-index: 1;}#sk-container-id-1 div.sk-parallel {display: flex;align-items: stretch;justify-content: center;background-color: white;position: relative;}#sk-container-id-1 div.sk-item::before, #sk-container-id-1 div.sk-parallel-item::before {content: \"\";position: absolute;border-left: 1px solid gray;box-sizing: border-box;top: 0;bottom: 0;left: 50%;z-index: -1;}#sk-container-id-1 div.sk-parallel-item {display: flex;flex-direction: column;z-index: 1;position: relative;background-color: white;}#sk-container-id-1 div.sk-parallel-item:first-child::after {align-self: flex-end;width: 50%;}#sk-container-id-1 div.sk-parallel-item:last-child::after {align-self: flex-start;width: 50%;}#sk-container-id-1 div.sk-parallel-item:only-child::after {width: 0;}#sk-container-id-1 div.sk-dashed-wrapped {border: 1px dashed gray;margin: 0 0.4em 0.5em 0.4em;box-sizing: border-box;padding-bottom: 0.4em;background-color: white;}#sk-container-id-1 div.sk-label label {font-family: monospace;font-weight: bold;display: inline-block;line-height: 1.2em;}#sk-container-id-1 div.sk-label-container {text-align: center;}#sk-container-id-1 div.sk-container {/* jupyter's `normalize.less` sets `[hidden] { display: none; }` but bootstrap.min.css set `[hidden] { display: none !important; }` so we also need the `!important` here to be able to override the default hidden behavior on the sphinx rendered scikit-learn.org. See: https://github.com/scikit-learn/scikit-learn/issues/21755 */display: inline-block !important;position: relative;}#sk-container-id-1 div.sk-text-repr-fallback {display: none;}</style><div id=\"sk-container-id-1\" class=\"sk-top-container\"><div class=\"sk-text-repr-fallback\"><pre>Pipeline(steps=[(&#x27;features&#x27;,\n",
       "                 ColumnTransformer(transformers=[(&#x27;ordinal&#x27;, OrdinalEncoder(),\n",
       "                                                  [&#x27;age_code&#x27;, &#x27;size_code&#x27;]),\n",
       "                                                 (&#x27;categorical&#x27;,\n",
       "                                                  OneHotEncoder(handle_unknown=&#x27;ignore&#x27;),\n",
       "                                                  [&#x27;gender&#x27;, &#x27;breed.1&#x27;,\n",
       "                                                   &#x27;breed.2&#x27;]),\n",
       "                                                 (&#x27;tags_dv&#x27;,\n",
       "                                                  Pipeline(steps=[(&#x27;clean&#x27;,\n",
       "                                                                   TagCleaner()),\n",
       "                                                                  (&#x27;de&#x27;,\n",
       "                                                                   DictEncoder()),\n",
       "                                                                  (&#x27;dv&#x27;,\n",
       "                                                                   DictVectorizer())]),\n",
       "                                                  &#x27;tags&#x27;),\n",
       "                                                 (&#x27;text_tfidf&#x27;,\n",
       "                                                  TfidfVectorizer(max_df=0.8,\n",
       "                                                                  max_...\n",
       "                                                                  min_df=10,\n",
       "                                                                  ngram_range=(1,\n",
       "                                                                               2),\n",
       "                                                                  stop_words=[&#x27;i&#x27;,\n",
       "                                                                              &#x27;me&#x27;,\n",
       "                                                                              &#x27;my&#x27;,\n",
       "                                                                              &#x27;myself&#x27;,\n",
       "                                                                              &#x27;we&#x27;,\n",
       "                                                                              &#x27;our&#x27;,\n",
       "                                                                              &#x27;ours&#x27;,\n",
       "                                                                              &#x27;ourselves&#x27;,\n",
       "                                                                              &#x27;you&#x27;,\n",
       "                                                                              &quot;you&#x27;re&quot;,\n",
       "                                                                              &quot;you&#x27;ve&quot;,\n",
       "                                                                              &quot;you&#x27;ll&quot;,\n",
       "                                                                              &quot;you&#x27;d&quot;,\n",
       "                                                                              &#x27;your&#x27;,\n",
       "                                                                              &#x27;yours&#x27;,\n",
       "                                                                              &#x27;yourself&#x27;,\n",
       "                                                                              &#x27;yourselves&#x27;,\n",
       "                                                                              &#x27;he&#x27;,\n",
       "                                                                              &#x27;him&#x27;,\n",
       "                                                                              &#x27;his&#x27;,\n",
       "                                                                              &#x27;himself&#x27;,\n",
       "                                                                              &#x27;she&#x27;,\n",
       "                                                                              &quot;she&#x27;s&quot;,\n",
       "                                                                              &#x27;her&#x27;,\n",
       "                                                                              &#x27;hers&#x27;,\n",
       "                                                                              &#x27;herself&#x27;,\n",
       "                                                                              &#x27;it&#x27;,\n",
       "                                                                              &quot;it&#x27;s&quot;,\n",
       "                                                                              &#x27;its&#x27;,\n",
       "                                                                              &#x27;itself&#x27;, ...]),\n",
       "                                                  &#x27;text&#x27;)])),\n",
       "                (&#x27;classifier&#x27;,\n",
       "                 RandomForestClassifier(max_depth=500, random_state=33))])</pre><b>In a Jupyter environment, please rerun this cell to show the HTML representation or trust the notebook. <br />On GitHub, the HTML representation is unable to render, please try loading this page with nbviewer.org.</b></div><div class=\"sk-container\" hidden><div class=\"sk-item sk-dashed-wrapped\"><div class=\"sk-label-container\"><div class=\"sk-label sk-toggleable\"><input class=\"sk-toggleable__control sk-hidden--visually\" id=\"sk-estimator-id-1\" type=\"checkbox\" ><label for=\"sk-estimator-id-1\" class=\"sk-toggleable__label sk-toggleable__label-arrow\">Pipeline</label><div class=\"sk-toggleable__content\"><pre>Pipeline(steps=[(&#x27;features&#x27;,\n",
       "                 ColumnTransformer(transformers=[(&#x27;ordinal&#x27;, OrdinalEncoder(),\n",
       "                                                  [&#x27;age_code&#x27;, &#x27;size_code&#x27;]),\n",
       "                                                 (&#x27;categorical&#x27;,\n",
       "                                                  OneHotEncoder(handle_unknown=&#x27;ignore&#x27;),\n",
       "                                                  [&#x27;gender&#x27;, &#x27;breed.1&#x27;,\n",
       "                                                   &#x27;breed.2&#x27;]),\n",
       "                                                 (&#x27;tags_dv&#x27;,\n",
       "                                                  Pipeline(steps=[(&#x27;clean&#x27;,\n",
       "                                                                   TagCleaner()),\n",
       "                                                                  (&#x27;de&#x27;,\n",
       "                                                                   DictEncoder()),\n",
       "                                                                  (&#x27;dv&#x27;,\n",
       "                                                                   DictVectorizer())]),\n",
       "                                                  &#x27;tags&#x27;),\n",
       "                                                 (&#x27;text_tfidf&#x27;,\n",
       "                                                  TfidfVectorizer(max_df=0.8,\n",
       "                                                                  max_...\n",
       "                                                                  min_df=10,\n",
       "                                                                  ngram_range=(1,\n",
       "                                                                               2),\n",
       "                                                                  stop_words=[&#x27;i&#x27;,\n",
       "                                                                              &#x27;me&#x27;,\n",
       "                                                                              &#x27;my&#x27;,\n",
       "                                                                              &#x27;myself&#x27;,\n",
       "                                                                              &#x27;we&#x27;,\n",
       "                                                                              &#x27;our&#x27;,\n",
       "                                                                              &#x27;ours&#x27;,\n",
       "                                                                              &#x27;ourselves&#x27;,\n",
       "                                                                              &#x27;you&#x27;,\n",
       "                                                                              &quot;you&#x27;re&quot;,\n",
       "                                                                              &quot;you&#x27;ve&quot;,\n",
       "                                                                              &quot;you&#x27;ll&quot;,\n",
       "                                                                              &quot;you&#x27;d&quot;,\n",
       "                                                                              &#x27;your&#x27;,\n",
       "                                                                              &#x27;yours&#x27;,\n",
       "                                                                              &#x27;yourself&#x27;,\n",
       "                                                                              &#x27;yourselves&#x27;,\n",
       "                                                                              &#x27;he&#x27;,\n",
       "                                                                              &#x27;him&#x27;,\n",
       "                                                                              &#x27;his&#x27;,\n",
       "                                                                              &#x27;himself&#x27;,\n",
       "                                                                              &#x27;she&#x27;,\n",
       "                                                                              &quot;she&#x27;s&quot;,\n",
       "                                                                              &#x27;her&#x27;,\n",
       "                                                                              &#x27;hers&#x27;,\n",
       "                                                                              &#x27;herself&#x27;,\n",
       "                                                                              &#x27;it&#x27;,\n",
       "                                                                              &quot;it&#x27;s&quot;,\n",
       "                                                                              &#x27;its&#x27;,\n",
       "                                                                              &#x27;itself&#x27;, ...]),\n",
       "                                                  &#x27;text&#x27;)])),\n",
       "                (&#x27;classifier&#x27;,\n",
       "                 RandomForestClassifier(max_depth=500, random_state=33))])</pre></div></div></div><div class=\"sk-serial\"><div class=\"sk-item sk-dashed-wrapped\"><div class=\"sk-label-container\"><div class=\"sk-label sk-toggleable\"><input class=\"sk-toggleable__control sk-hidden--visually\" id=\"sk-estimator-id-2\" type=\"checkbox\" ><label for=\"sk-estimator-id-2\" class=\"sk-toggleable__label sk-toggleable__label-arrow\">features: ColumnTransformer</label><div class=\"sk-toggleable__content\"><pre>ColumnTransformer(transformers=[(&#x27;ordinal&#x27;, OrdinalEncoder(),\n",
       "                                 [&#x27;age_code&#x27;, &#x27;size_code&#x27;]),\n",
       "                                (&#x27;categorical&#x27;,\n",
       "                                 OneHotEncoder(handle_unknown=&#x27;ignore&#x27;),\n",
       "                                 [&#x27;gender&#x27;, &#x27;breed.1&#x27;, &#x27;breed.2&#x27;]),\n",
       "                                (&#x27;tags_dv&#x27;,\n",
       "                                 Pipeline(steps=[(&#x27;clean&#x27;, TagCleaner()),\n",
       "                                                 (&#x27;de&#x27;, DictEncoder()),\n",
       "                                                 (&#x27;dv&#x27;, DictVectorizer())]),\n",
       "                                 &#x27;tags&#x27;),\n",
       "                                (&#x27;text_tfidf&#x27;,\n",
       "                                 TfidfVectorizer(max_df=0.8, max_features=5000,\n",
       "                                                 min_df=10, ngram_range=(1, 2),\n",
       "                                                 stop_words=[&#x27;i&#x27;, &#x27;me&#x27;, &#x27;my&#x27;,\n",
       "                                                             &#x27;myself&#x27;, &#x27;we&#x27;,\n",
       "                                                             &#x27;our&#x27;, &#x27;ours&#x27;,\n",
       "                                                             &#x27;ourselves&#x27;, &#x27;you&#x27;,\n",
       "                                                             &quot;you&#x27;re&quot;, &quot;you&#x27;ve&quot;,\n",
       "                                                             &quot;you&#x27;ll&quot;, &quot;you&#x27;d&quot;,\n",
       "                                                             &#x27;your&#x27;, &#x27;yours&#x27;,\n",
       "                                                             &#x27;yourself&#x27;,\n",
       "                                                             &#x27;yourselves&#x27;, &#x27;he&#x27;,\n",
       "                                                             &#x27;him&#x27;, &#x27;his&#x27;,\n",
       "                                                             &#x27;himself&#x27;, &#x27;she&#x27;,\n",
       "                                                             &quot;she&#x27;s&quot;, &#x27;her&#x27;,\n",
       "                                                             &#x27;hers&#x27;, &#x27;herself&#x27;,\n",
       "                                                             &#x27;it&#x27;, &quot;it&#x27;s&quot;,\n",
       "                                                             &#x27;its&#x27;, &#x27;itself&#x27;, ...]),\n",
       "                                 &#x27;text&#x27;)])</pre></div></div></div><div class=\"sk-parallel\"><div class=\"sk-parallel-item\"><div class=\"sk-item\"><div class=\"sk-label-container\"><div class=\"sk-label sk-toggleable\"><input class=\"sk-toggleable__control sk-hidden--visually\" id=\"sk-estimator-id-3\" type=\"checkbox\" ><label for=\"sk-estimator-id-3\" class=\"sk-toggleable__label sk-toggleable__label-arrow\">ordinal</label><div class=\"sk-toggleable__content\"><pre>[&#x27;age_code&#x27;, &#x27;size_code&#x27;]</pre></div></div></div><div class=\"sk-serial\"><div class=\"sk-item\"><div class=\"sk-estimator sk-toggleable\"><input class=\"sk-toggleable__control sk-hidden--visually\" id=\"sk-estimator-id-4\" type=\"checkbox\" ><label for=\"sk-estimator-id-4\" class=\"sk-toggleable__label sk-toggleable__label-arrow\">OrdinalEncoder</label><div class=\"sk-toggleable__content\"><pre>OrdinalEncoder()</pre></div></div></div></div></div></div><div class=\"sk-parallel-item\"><div class=\"sk-item\"><div class=\"sk-label-container\"><div class=\"sk-label sk-toggleable\"><input class=\"sk-toggleable__control sk-hidden--visually\" id=\"sk-estimator-id-5\" type=\"checkbox\" ><label for=\"sk-estimator-id-5\" class=\"sk-toggleable__label sk-toggleable__label-arrow\">categorical</label><div class=\"sk-toggleable__content\"><pre>[&#x27;gender&#x27;, &#x27;breed.1&#x27;, &#x27;breed.2&#x27;]</pre></div></div></div><div class=\"sk-serial\"><div class=\"sk-item\"><div class=\"sk-estimator sk-toggleable\"><input class=\"sk-toggleable__control sk-hidden--visually\" id=\"sk-estimator-id-6\" type=\"checkbox\" ><label for=\"sk-estimator-id-6\" class=\"sk-toggleable__label sk-toggleable__label-arrow\">OneHotEncoder</label><div class=\"sk-toggleable__content\"><pre>OneHotEncoder(handle_unknown=&#x27;ignore&#x27;)</pre></div></div></div></div></div></div><div class=\"sk-parallel-item\"><div class=\"sk-item\"><div class=\"sk-label-container\"><div class=\"sk-label sk-toggleable\"><input class=\"sk-toggleable__control sk-hidden--visually\" id=\"sk-estimator-id-7\" type=\"checkbox\" ><label for=\"sk-estimator-id-7\" class=\"sk-toggleable__label sk-toggleable__label-arrow\">tags_dv</label><div class=\"sk-toggleable__content\"><pre>tags</pre></div></div></div><div class=\"sk-serial\"><div class=\"sk-item\"><div class=\"sk-serial\"><div class=\"sk-item\"><div class=\"sk-estimator sk-toggleable\"><input class=\"sk-toggleable__control sk-hidden--visually\" id=\"sk-estimator-id-8\" type=\"checkbox\" ><label for=\"sk-estimator-id-8\" class=\"sk-toggleable__label sk-toggleable__label-arrow\">TagCleaner</label><div class=\"sk-toggleable__content\"><pre>TagCleaner()</pre></div></div></div><div class=\"sk-item\"><div class=\"sk-estimator sk-toggleable\"><input class=\"sk-toggleable__control sk-hidden--visually\" id=\"sk-estimator-id-9\" type=\"checkbox\" ><label for=\"sk-estimator-id-9\" class=\"sk-toggleable__label sk-toggleable__label-arrow\">DictEncoder</label><div class=\"sk-toggleable__content\"><pre>DictEncoder()</pre></div></div></div><div class=\"sk-item\"><div class=\"sk-estimator sk-toggleable\"><input class=\"sk-toggleable__control sk-hidden--visually\" id=\"sk-estimator-id-10\" type=\"checkbox\" ><label for=\"sk-estimator-id-10\" class=\"sk-toggleable__label sk-toggleable__label-arrow\">DictVectorizer</label><div class=\"sk-toggleable__content\"><pre>DictVectorizer()</pre></div></div></div></div></div></div></div></div><div class=\"sk-parallel-item\"><div class=\"sk-item\"><div class=\"sk-label-container\"><div class=\"sk-label sk-toggleable\"><input class=\"sk-toggleable__control sk-hidden--visually\" id=\"sk-estimator-id-11\" type=\"checkbox\" ><label for=\"sk-estimator-id-11\" class=\"sk-toggleable__label sk-toggleable__label-arrow\">text_tfidf</label><div class=\"sk-toggleable__content\"><pre>text</pre></div></div></div><div class=\"sk-serial\"><div class=\"sk-item\"><div class=\"sk-estimator sk-toggleable\"><input class=\"sk-toggleable__control sk-hidden--visually\" id=\"sk-estimator-id-12\" type=\"checkbox\" ><label for=\"sk-estimator-id-12\" class=\"sk-toggleable__label sk-toggleable__label-arrow\">TfidfVectorizer</label><div class=\"sk-toggleable__content\"><pre>TfidfVectorizer(max_df=0.8, max_features=5000, min_df=10, ngram_range=(1, 2),\n",
       "                stop_words=[&#x27;i&#x27;, &#x27;me&#x27;, &#x27;my&#x27;, &#x27;myself&#x27;, &#x27;we&#x27;, &#x27;our&#x27;, &#x27;ours&#x27;,\n",
       "                            &#x27;ourselves&#x27;, &#x27;you&#x27;, &quot;you&#x27;re&quot;, &quot;you&#x27;ve&quot;, &quot;you&#x27;ll&quot;,\n",
       "                            &quot;you&#x27;d&quot;, &#x27;your&#x27;, &#x27;yours&#x27;, &#x27;yourself&#x27;, &#x27;yourselves&#x27;,\n",
       "                            &#x27;he&#x27;, &#x27;him&#x27;, &#x27;his&#x27;, &#x27;himself&#x27;, &#x27;she&#x27;, &quot;she&#x27;s&quot;,\n",
       "                            &#x27;her&#x27;, &#x27;hers&#x27;, &#x27;herself&#x27;, &#x27;it&#x27;, &quot;it&#x27;s&quot;, &#x27;its&#x27;,\n",
       "                            &#x27;itself&#x27;, ...])</pre></div></div></div></div></div></div></div></div><div class=\"sk-item\"><div class=\"sk-estimator sk-toggleable\"><input class=\"sk-toggleable__control sk-hidden--visually\" id=\"sk-estimator-id-13\" type=\"checkbox\" ><label for=\"sk-estimator-id-13\" class=\"sk-toggleable__label sk-toggleable__label-arrow\">RandomForestClassifier</label><div class=\"sk-toggleable__content\"><pre>RandomForestClassifier(max_depth=500, random_state=33)</pre></div></div></div></div></div></div></div>"
      ],
      "text/plain": [
       "Pipeline(steps=[('features',\n",
       "                 ColumnTransformer(transformers=[('ordinal', OrdinalEncoder(),\n",
       "                                                  ['age_code', 'size_code']),\n",
       "                                                 ('categorical',\n",
       "                                                  OneHotEncoder(handle_unknown='ignore'),\n",
       "                                                  ['gender', 'breed.1',\n",
       "                                                   'breed.2']),\n",
       "                                                 ('tags_dv',\n",
       "                                                  Pipeline(steps=[('clean',\n",
       "                                                                   TagCleaner()),\n",
       "                                                                  ('de',\n",
       "                                                                   DictEncoder()),\n",
       "                                                                  ('dv',\n",
       "                                                                   DictVectorizer())]),\n",
       "                                                  'tags'),\n",
       "                                                 ('text_tfidf',\n",
       "                                                  TfidfVectorizer(max_df=0.8,\n",
       "                                                                  max_...\n",
       "                                                                  min_df=10,\n",
       "                                                                  ngram_range=(1,\n",
       "                                                                               2),\n",
       "                                                                  stop_words=['i',\n",
       "                                                                              'me',\n",
       "                                                                              'my',\n",
       "                                                                              'myself',\n",
       "                                                                              'we',\n",
       "                                                                              'our',\n",
       "                                                                              'ours',\n",
       "                                                                              'ourselves',\n",
       "                                                                              'you',\n",
       "                                                                              \"you're\",\n",
       "                                                                              \"you've\",\n",
       "                                                                              \"you'll\",\n",
       "                                                                              \"you'd\",\n",
       "                                                                              'your',\n",
       "                                                                              'yours',\n",
       "                                                                              'yourself',\n",
       "                                                                              'yourselves',\n",
       "                                                                              'he',\n",
       "                                                                              'him',\n",
       "                                                                              'his',\n",
       "                                                                              'himself',\n",
       "                                                                              'she',\n",
       "                                                                              \"she's\",\n",
       "                                                                              'her',\n",
       "                                                                              'hers',\n",
       "                                                                              'herself',\n",
       "                                                                              'it',\n",
       "                                                                              \"it's\",\n",
       "                                                                              'its',\n",
       "                                                                              'itself', ...]),\n",
       "                                                  'text')])),\n",
       "                ('classifier',\n",
       "                 RandomForestClassifier(max_depth=500, random_state=33))])"
      ]
     },
     "execution_count": 12,
     "metadata": {},
     "output_type": "execute_result"
    }
   ],
   "source": [
    "# train model \n",
    "\n",
    "model.fit(X_train, y_train)"
   ]
  },
  {
   "cell_type": "code",
   "execution_count": 13,
   "id": "27f24d9b",
   "metadata": {},
   "outputs": [
    {
     "data": {
      "text/plain": [
       "0.9639038698079289"
      ]
     },
     "execution_count": 13,
     "metadata": {},
     "output_type": "execute_result"
    }
   ],
   "source": [
    "# model accuracy on training data \n",
    "\n",
    "model.score(X_train, y_train)"
   ]
  },
  {
   "cell_type": "code",
   "execution_count": 14,
   "id": "92bedbfd",
   "metadata": {},
   "outputs": [
    {
     "data": {
      "text/plain": [
       "0.7142857142857143"
      ]
     },
     "execution_count": 14,
     "metadata": {},
     "output_type": "execute_result"
    }
   ],
   "source": [
    "# model accuracy on test data \n",
    "\n",
    "model.score(X_test, y_test)"
   ]
  },
  {
   "cell_type": "code",
   "execution_count": 15,
   "id": "80060917",
   "metadata": {},
   "outputs": [
    {
     "name": "stdout",
     "output_type": "stream",
     "text": [
      "precision:  0.6862676056338028\n",
      "recall:  0.7589563862928349\n",
      "f1:  0.7207840236686391\n"
     ]
    }
   ],
   "source": [
    "# more metrics \n",
    "\n",
    "y_pred = model.predict(X_test)\n",
    "\n",
    "prec = precision_score(y_test, y_pred, labels=model.classes_)\n",
    "reca = recall_score(y_test, y_pred, labels=model.classes_)\n",
    "f1 = f1_score(y_test, y_pred)\n",
    "\n",
    "print('precision: ', prec)\n",
    "print('recall: ', reca)\n",
    "print('f1: ', f1)"
   ]
  },
  {
   "cell_type": "code",
   "execution_count": 16,
   "id": "fcb10a0a",
   "metadata": {},
   "outputs": [
    {
     "data": {
      "image/png": "[encoded data removed]",
      "text/plain": [
       "<Figure size 640x480 with 2 Axes>"
      ]
     },
     "metadata": {},
     "output_type": "display_data"
    }
   ],
   "source": [
    "# confusion matrix \n",
    "\n",
    "cm = confusion_matrix(y_test, y_pred)\n",
    "\n",
    "disp = ConfusionMatrixDisplay(confusion_matrix=cm, \n",
    "                              display_labels=model.classes_)\n",
    "disp.plot()\n",
    "plt.show()"
   ]
  },
  {
   "cell_type": "code",
   "execution_count": 17,
   "id": "9ec9fe7f",
   "metadata": {},
   "outputs": [],
   "source": [
    "# save model \n",
    "\n",
    "with open('model_final.pkd', 'wb') as file:\n",
    "    dill.dump(model, file)"
   ]
  },
  {
   "cell_type": "code",
   "execution_count": null,
   "id": "f8c9209f",
   "metadata": {},
   "outputs": [],
   "source": [
    "# future directions \n",
    "# transform tags and text data into word embeddings \n",
    "# use scikit-survival for time-to-event analysis and predictions \n",
    "# try SHAP (SHapley Additive exPlanations) for better explanations on feature importance"
   ]
  },
  {
   "cell_type": "code",
   "execution_count": null,
   "id": "9a43a5d0",
   "metadata": {},
   "outputs": [],
   "source": []
  }
 ],
 "metadata": {
  "kernelspec": {
   "display_name": "Python 3 (ipykernel)",
   "language": "python",
   "name": "python3"
  },
  "language_info": {
   "codemirror_mode": {
    "name": "ipython",
    "version": 3
   },
   "file_extension": ".py",
   "mimetype": "text/x-python",
   "name": "python",
   "nbconvert_exporter": "python",
   "pygments_lexer": "ipython3",
   "version": "3.10.11"
  }
 },
 "nbformat": 4,
 "nbformat_minor": 5
}
